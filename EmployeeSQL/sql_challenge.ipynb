{
 "metadata": {
  "language_info": {
   "codemirror_mode": {
    "name": "ipython",
    "version": 3
   },
   "file_extension": ".py",
   "mimetype": "text/x-python",
   "name": "python",
   "nbconvert_exporter": "python",
   "pygments_lexer": "ipython3",
   "version": "3.6.10"
  },
  "orig_nbformat": 2,
  "kernelspec": {
   "name": "python3610jvsc74a57bd066e1e1fe36c9fe72e225d3c3a508f4a0bbe0e244a803226d5df66adcdefd8262",
   "display_name": "Python 3.6.10 64-bit ('PythonData': conda)"
  }
 },
 "nbformat": 4,
 "nbformat_minor": 2,
 "cells": [
  {
   "cell_type": "code",
   "execution_count": 50,
   "metadata": {},
   "outputs": [],
   "source": [
    "#dependencies and database adapters\n",
    "import pandas as pd\n",
    "import numpy as np\n",
    "import psycopg2\n",
    "from psycopg2 import OperationalError\n",
    "from psycopg2.extensions import register_adapter, AsIs\n",
    "\n",
    "#to fix below problems with database queries involving integers\n",
    "psycopg2.extensions.register_adapter(np.int64, psycopg2._psycopg.AsIs)\n",
    "\n",
    "def adapt_np_int64(np_int64):\n",
    "    return AsIs(np_int64)\n",
    "\n",
    "register_adapter(np.int64, adapt_np_int64)"
   ]
  },
  {
   "cell_type": "code",
   "execution_count": 51,
   "metadata": {},
   "outputs": [],
   "source": [
    "#establishing connection for database adapter\n",
    "def create_connection(db_name, db_user, db_password, db_host, db_port):\n",
    "    connection = None\n",
    "    try:\n",
    "        connection = psycopg2.connect(\n",
    "            database=db_name,\n",
    "            user=db_user,\n",
    "            password=db_password,\n",
    "            host=db_host,\n",
    "            port=db_port,\n",
    "        )\n",
    "        print(\"Connection to PostgreSQL DB successful\")\n",
    "    except OperationalError as e:\n",
    "        print(f\"The error '{e}' occurred\")\n",
    "    return connection"
   ]
  },
  {
   "cell_type": "code",
   "execution_count": 52,
   "metadata": {},
   "outputs": [
    {
     "output_type": "stream",
     "name": "stdout",
     "text": [
      "Connection to PostgreSQL DB successful\n"
     ]
    }
   ],
   "source": [
    "#connection credentials for PostgreSQL connection\n",
    "connection = create_connection(\n",
    "    \"sql_challenge_db\", \"postgres\", \"$!Xt333n\", \"localhost\", \"5432\"\n",
    ")"
   ]
  },
  {
   "cell_type": "code",
   "execution_count": 53,
   "metadata": {},
   "outputs": [],
   "source": [
    "#creating database adaptation function\n",
    "def execute_query(connection, query):\n",
    "    connection.autocommit = True\n",
    "    cursor = connection.cursor()\n",
    "    try:\n",
    "        cursor.execute(query)\n",
    "        print(\"Query executed successfully\")\n",
    "    except OperationalError as e:\n",
    "        print(f\"The error '{e}' occurred\")"
   ]
  },
  {
   "cell_type": "code",
   "execution_count": 54,
   "metadata": {},
   "outputs": [
    {
     "output_type": "stream",
     "name": "stdout",
     "text": [
      "Query executed successfully\nQuery executed successfully\nQuery executed successfully\nQuery executed successfully\nQuery executed successfully\nQuery executed successfully\n"
     ]
    }
   ],
   "source": [
    "#creating tables through the database adapter function\n",
    "create_titles_table = \"\"\"\n",
    "CREATE TABLE IF NOT EXISTS titles (\n",
    "  id VARCHAR(5) PRIMARY KEY,\n",
    "  title VARCHAR(50)\n",
    ")\n",
    "\"\"\"\n",
    "execute_query(connection, create_titles_table)\n",
    "\n",
    "create_employees_table = \"\"\"\n",
    "CREATE TABLE IF NOT EXISTS employees (\n",
    "  id INTEGER PRIMARY KEY,\n",
    "  title_id VARCHAR(5) REFERENCES titles(id),\n",
    "  birthdate DATE,\n",
    "  first_name VARCHAR(20),\n",
    "  last_name VARCHAR(20),\n",
    "  sex VARCHAR(1),\n",
    "  hire_date DATE\n",
    ")\n",
    "\"\"\"\n",
    "execute_query(connection, create_employees_table)\n",
    "\n",
    "\n",
    "create_departments_table = \"\"\"\n",
    "CREATE TABLE IF NOT EXISTS departments (\n",
    "  id VARCHAR(5) PRIMARY KEY,\n",
    "  name VARCHAR(20)\n",
    ")\n",
    "\"\"\"\n",
    "execute_query(connection, create_departments_table)\n",
    "\n",
    "\n",
    "create_salaries_table = \"\"\"\n",
    "CREATE TABLE IF NOT EXISTS salaries (\n",
    "  emp_id INTEGER PRIMARY KEY REFERENCES employees(id),\n",
    "  salary INTEGER\n",
    ")\n",
    "\"\"\"\n",
    "execute_query(connection, create_salaries_table)\n",
    "\n",
    "\n",
    "create_dept_manager_table = \"\"\"\n",
    "CREATE TABLE IF NOT EXISTS dept_manager (\n",
    "  emp_id INTEGER PRIMARY KEY REFERENCES employees(id),\n",
    "  dept_id VARCHAR(4) REFERENCES departments(id)\n",
    ")\n",
    "\"\"\"\n",
    "execute_query(connection, create_dept_manager_table)\n",
    "\n",
    "\n",
    "create_dept_emp_table = \"\"\"\n",
    "CREATE TABLE IF NOT EXISTS dept_emp (\n",
    "  emp_id INTEGER PRIMARY KEY REFERENCES employees(id),\n",
    "  dept_id VARCHAR(4) REFERENCES departments(id)\n",
    ")\n",
    "\"\"\"\n",
    "execute_query(connection, create_dept_emp_table)"
   ]
  },
  {
   "cell_type": "code",
   "execution_count": 55,
   "metadata": {},
   "outputs": [
    {
     "output_type": "stream",
     "name": "stdout",
     "text": [
      "       id title_id   birthdate  first_name  last_name sex   hire_date\n0  473302    s0001   7/25/1953    Hideyuki   Zallocco   M   4/28/1990\n1  475053    e0002  11/18/1954       Byong  Delgrande   F    9/7/1991\n2   57444    e0002   1/30/1958       Berry       Babb   F   3/21/1992\n3  421786    s0001   9/28/1957       Xiong   Verhoeff   M  11/26/1987\n4  282238    e0003  10/28/1952  Abdelkader    Baumann   F   1/18/1991\n"
     ]
    }
   ],
   "source": [
    "#database connection statements\n",
    "connection.autocommit = True\n",
    "cursor = connection.cursor()\n",
    "\n",
    "#reading in CSVs as dataframes with pandas\n",
    "titles_df = pd.read_csv('titles.csv')\n",
    "emp_df = pd.read_csv('employees.csv')\n",
    "depts_df = pd.read_csv('departments.csv')\n",
    "sals_df = pd.read_csv('salaries.csv')\n",
    "dept_man_df = pd.read_csv('dept_manager.csv')\n",
    "dept_emp_df = pd.read_csv('dept_emp.csv')\n",
    "\n",
    "#checking new dataframes\n",
    "print(emp_df.head())\n"
   ]
  },
  {
   "cell_type": "code",
   "execution_count": 56,
   "metadata": {},
   "outputs": [
    {
     "output_type": "stream",
     "name": "stdout",
     "text": [
      "Finished with \"titles\" table.\n",
      "Finished with \"employees\" table.\n",
      "Finished with \"departments\" table.\n"
     ]
    }
   ],
   "source": [
    "#adapting first three dataframes to tables, and printing when finished\n",
    "insert_query = (f\"INSERT INTO titles (id, title) VALUES (%s, %s) ON CONFLICT DO NOTHING\")\n",
    "\n",
    "for index, row in titles_df.iterrows():\n",
    "    cursor.execute(insert_query, (row['title_id'], row['title']))\n",
    "\n",
    "print('Finished with \"titles\" table.')\n",
    "\n",
    "\n",
    "insert_query = (f\"INSERT INTO employees (id, title_id, birthdate, first_name, last_name, sex, hire_date) VALUES (%s, %s, %s, %s, %s, %s, %s) ON CONFLICT DO NOTHING\")\n",
    "\n",
    "for index, row in emp_df.iterrows():\n",
    "    cursor.execute(insert_query, (row['id'], row['title_id'], row['birthdate'], row['first_name'], row['last_name'], row['sex'], row['hire_date']))\n",
    "\n",
    "print('Finished with \"employees\" table.')\n",
    "\n",
    "\n",
    "insert_query = (f\"INSERT INTO departments (id, name) VALUES (%s, %s) ON CONFLICT DO NOTHING\")\n",
    "\n",
    "for index, row in depts_df.iterrows():\n",
    "    cursor.execute(insert_query, (row['dept_no'], row['dept_name']))\n",
    "\n",
    "print('Finished with \"departments\" table.')\n",
    "\n",
    "\n"
   ]
  },
  {
   "cell_type": "code",
   "execution_count": 57,
   "metadata": {},
   "outputs": [
    {
     "output_type": "stream",
     "name": "stdout",
     "text": [
      "Finished with \"salaries\" table.\n",
      "Finished with \"dept_manager\" table.\n",
      "Finished with \"dept_emp\" table.\n"
     ]
    }
   ],
   "source": [
    "#adapting next three dataframes to tables, and printing when finished\n",
    "insert_query = (f\"INSERT INTO salaries (emp_id, salary) VALUES (%s, %s) ON CONFLICT DO NOTHING\")\n",
    "\n",
    "for index, row in sals_df.iterrows():\n",
    "    cursor.execute(insert_query, (row['emp_no'], row['salary']))\n",
    "\n",
    "print('Finished with \"salaries\" table.')\n",
    "\n",
    "\n",
    "insert_query = (f\"INSERT INTO dept_manager (emp_id, dept_id) VALUES (%s, %s) ON CONFLICT DO NOTHING\")\n",
    "\n",
    "for index, row in dept_man_df.iterrows():\n",
    "    cursor.execute(insert_query, (row['emp_no'], row['dept_no']))\n",
    "\n",
    "print('Finished with \"dept_manager\" table.')\n",
    "\n",
    "\n",
    "insert_query = (f\"INSERT INTO dept_emp (emp_id, dept_id) VALUES (%s, %s) ON CONFLICT DO NOTHING\")\n",
    "\n",
    "for index, row in dept_emp_df.iterrows():\n",
    "    cursor.execute(insert_query, (row['emp_no'], row['dept_no']))\n",
    "\n",
    "print('Finished with \"dept_emp\" table.')"
   ]
  },
  {
   "cell_type": "code",
   "execution_count": null,
   "metadata": {},
   "outputs": [],
   "source": []
  }
 ]
}